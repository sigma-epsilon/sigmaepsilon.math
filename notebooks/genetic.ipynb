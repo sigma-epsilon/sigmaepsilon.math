{
 "cells": [
  {
   "cell_type": "markdown",
   "metadata": {},
   "source": [
    "# Nonlinear Programming"
   ]
  },
  {
   "cell_type": "markdown",
   "metadata": {},
   "source": [
    "## Binary Genetic Algorithm (BGA)"
   ]
  },
  {
   "cell_type": "code",
   "execution_count": 1,
   "metadata": {},
   "outputs": [
    {
     "data": {
      "text/plain": [
       "array([0.94993895, 0.9010989 ])"
      ]
     },
     "execution_count": 1,
     "metadata": {},
     "output_type": "execute_result"
    }
   ],
   "source": [
    "from sigmaepsilon.math.optimize import BinaryGeneticAlgorithm\n",
    "\n",
    "\n",
    "def Rosenbrock(x):\n",
    "    a, b = 1, 100\n",
    "    return (a-x[0])**2 + b*(x[1]-x[0]**2)**2\n",
    "\n",
    "\n",
    "ranges = [[-10, 10], [-10, 10]]\n",
    "BGA = BinaryGeneticAlgorithm(Rosenbrock, ranges, length=12, nPop=200)\n",
    "BGA.solve()\n"
   ]
  },
  {
   "cell_type": "markdown",
   "metadata": {},
   "source": [
    "## Iterative Solution using `BGA.evolve`"
   ]
  },
  {
   "cell_type": "markdown",
   "metadata": {},
   "source": [
    "Here we keep track of the best candidate and plot a history chart using `matplotlib`. The `evolve` call on the object performs a specified number of cycles, while `best_phenotype`\n",
    "returns the best candidate in general format."
   ]
  },
  {
   "cell_type": "code",
   "execution_count": 2,
   "metadata": {
    "tags": [
     "nbsphinx-thumbnail"
    ]
   },
   "outputs": [
    {
     "data": {
      "image/png": "[encoded data removed]",
      "text/plain": [
       "<Figure size 432x288 with 1 Axes>"
      ]
     },
     "metadata": {
      "needs_background": "light"
     },
     "output_type": "display_data"
    }
   ],
   "source": [
    "import matplotlib.pyplot as plt\n",
    "\n",
    "import pyvista\n",
    "\n",
    "BGA = BinaryGeneticAlgorithm(Rosenbrock, ranges, length=12, nPop=200)\n",
    "history = [Rosenbrock(BGA.best_phenotype())]\n",
    "for _ in range(100):\n",
    "    BGA.evolve(1)\n",
    "    history.append(Rosenbrock(BGA.best_phenotype()))\n",
    "plt.plot(history)\n",
    "plt.show()\n",
    "x = BGA.best_phenotype()\n",
    "fx = Rosenbrock(x)"
   ]
  }
 ],
 "metadata": {
  "kernelspec": {
   "display_name": ".venv",
   "language": "python",
   "name": "python3"
  },
  "language_info": {
   "codemirror_mode": {
    "name": "ipython",
    "version": 3
   },
   "file_extension": ".py",
   "mimetype": "text/x-python",
   "name": "python",
   "nbconvert_exporter": "python",
   "pygments_lexer": "ipython3",
   "version": "3.8.10 (tags/v3.8.10:3d8993a, May  3 2021, 11:48:03) [MSC v.1928 64 bit (AMD64)]"
  },
  "vscode": {
   "interpreter": {
    "hash": "4e251a336b180e3c877fd4b81be72acfad98293ac2abcf90f00390a06765d313"
   }
  },
  "widgets": {
   "application/vnd.jupyter.widget-state+json": {
    "state": {},
    "version_major": 2,
    "version_minor": 0
   }
  }
 },
 "nbformat": 4,
 "nbformat_minor": 4
}
