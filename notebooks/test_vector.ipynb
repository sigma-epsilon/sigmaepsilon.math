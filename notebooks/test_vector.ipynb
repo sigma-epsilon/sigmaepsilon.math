{
 "cells": [
  {
   "cell_type": "code",
   "execution_count": 1,
   "metadata": {},
   "outputs": [],
   "source": [
    "import numpy as np"
   ]
  },
  {
   "cell_type": "code",
   "execution_count": 2,
   "metadata": {},
   "outputs": [],
   "source": [
    "# old base vectors in old frame\n",
    "e1 = np.array([1., 0.])\n",
    "e2 = np.array([0., 1.])\n",
    "\n",
    "# new base vectors in old frame\n",
    "E1 = np.array([0., 1.])\n",
    "E2 = np.array([-1., 0.])\n",
    "\n",
    "# direction cosine matrix\n",
    "DCM = np.stack([E1, E2])\n",
    "\n",
    "# the transpose of DCM transforms the base vectors as column arrays\n",
    "assert np.all(np.isclose(DCM.T @ e1, E1, rtol=1e-05, atol=1e-08))\n",
    "assert np.all(np.isclose(DCM.T @ e2, E2, rtol=1e-05, atol=1e-08))\n",
    "\n",
    "# the DCM transforms the base vectors as row arrays\n",
    "assert np.all(np.isclose(e1 @ DCM, E1, rtol=1e-05, atol=1e-08))\n",
    "assert np.all(np.isclose(e2 @ DCM, E2, rtol=1e-05, atol=1e-08))\n",
    "\n",
    "# transform the complete frame at once\n",
    "assert np.all(np.isclose(DCM @ np.stack([e1, e2]), np.stack([E1, E2]), \n",
    "                         rtol=1e-05, atol=1e-08))"
   ]
  },
  {
   "cell_type": "code",
   "execution_count": 3,
   "metadata": {},
   "outputs": [
    {
     "data": {
      "text/plain": [
       "array([[ 0.,  1.],\n",
       "       [-1.,  0.]])"
      ]
     },
     "execution_count": 3,
     "metadata": {},
     "output_type": "execute_result"
    }
   ],
   "source": [
    "DCM"
   ]
  },
  {
   "cell_type": "code",
   "execution_count": 4,
   "metadata": {},
   "outputs": [],
   "source": [
    "from sympy.physics.vector import ReferenceFrame"
   ]
  },
  {
   "cell_type": "code",
   "execution_count": 5,
   "metadata": {},
   "outputs": [],
   "source": [
    "source = ReferenceFrame('source')\n",
    "target = source.orientnew('target', 'Body', [0, 0, 90*np.pi/180],  'XYZ')\n",
    "DCM = np.array(target.dcm(source).evalf()).astype(float)[:2, :2]\n",
    "DCM[np.abs(DCM) < 1e-12] = 0."
   ]
  },
  {
   "cell_type": "code",
   "execution_count": 6,
   "metadata": {},
   "outputs": [
    {
     "data": {
      "text/plain": [
       "array([[ 0.,  1.],\n",
       "       [-1.,  0.]])"
      ]
     },
     "execution_count": 6,
     "metadata": {},
     "output_type": "execute_result"
    }
   ],
   "source": [
    "DCM"
   ]
  },
  {
   "cell_type": "code",
   "execution_count": 7,
   "metadata": {},
   "outputs": [],
   "source": [
    "from sigmaepsilon.math.linalg import Vector, ReferenceFrame"
   ]
  },
  {
   "cell_type": "code",
   "execution_count": 8,
   "metadata": {},
   "outputs": [
    {
     "data": {
      "text/plain": [
       "ArrayBase([[ 6.123234e-17,  1.000000e+00,  0.000000e+00],\n",
       "           [-1.000000e+00,  6.123234e-17,  0.000000e+00],\n",
       "           [ 0.000000e+00,  0.000000e+00,  1.000000e+00]])"
      ]
     },
     "execution_count": 8,
     "metadata": {},
     "output_type": "execute_result"
    }
   ],
   "source": [
    "A = ReferenceFrame(name='A', axes=np.eye(3))\n",
    "B = A.orient_new('Body', [0, 0, 90*np.pi/180], 'XYZ', name='B')\n",
    "B.dcm()"
   ]
  },
  {
   "cell_type": "code",
   "execution_count": 9,
   "metadata": {},
   "outputs": [
    {
     "data": {
      "text/plain": [
       "VectorBase([0., 1., 0.])"
      ]
     },
     "execution_count": 9,
     "metadata": {},
     "output_type": "execute_result"
    }
   ],
   "source": [
    "v = Vector([0.0, 1.0, 0.0], frame=A)\n",
    "v.view(B)"
   ]
  },
  {
   "cell_type": "code",
   "execution_count": 10,
   "metadata": {},
   "outputs": [
    {
     "data": {
      "text/plain": [
       "VectorBase([0., 1., 0.])"
      ]
     },
     "execution_count": 10,
     "metadata": {},
     "output_type": "execute_result"
    }
   ],
   "source": [
    "v.orient('Body', [0, 0, -90*np.pi/180], 'XYZ')\n",
    "v.view(B)"
   ]
  },
  {
   "cell_type": "code",
   "execution_count": 11,
   "metadata": {},
   "outputs": [
    {
     "data": {
      "text/plain": [
       "VectorBase([0., 1., 0.])"
      ]
     },
     "execution_count": 11,
     "metadata": {},
     "output_type": "execute_result"
    }
   ],
   "source": [
    "v.view()"
   ]
  },
  {
   "cell_type": "code",
   "execution_count": 12,
   "metadata": {},
   "outputs": [],
   "source": [
    "# the original frame    \n",
    "A = ReferenceFrame(dim=3, axes=np.eye(3))\n",
    "\n",
    "# the original vector\n",
    "vA = Vector([1., 0., 0.], frame=A)\n",
    "\n",
    "# random rotation\n",
    "amounts = [0., 0., 0.]\n",
    "amounts[2] = 90 * np.pi / 180\n",
    "B = A.orient_new('Body', amounts, 'XYZ')"
   ]
  },
  {
   "cell_type": "code",
   "execution_count": 13,
   "metadata": {},
   "outputs": [
    {
     "data": {
      "text/plain": [
       "array([1., 0., 0.])"
      ]
     },
     "execution_count": 13,
     "metadata": {},
     "output_type": "execute_result"
    }
   ],
   "source": [
    "vA.show()"
   ]
  },
  {
   "cell_type": "code",
   "execution_count": 14,
   "metadata": {},
   "outputs": [
    {
     "data": {
      "text/plain": [
       "array([1., 0., 0.])"
      ]
     },
     "execution_count": 14,
     "metadata": {},
     "output_type": "execute_result"
    }
   ],
   "source": [
    "vA.show(A)"
   ]
  },
  {
   "cell_type": "code",
   "execution_count": 15,
   "metadata": {},
   "outputs": [
    {
     "data": {
      "text/plain": [
       "array([ 6.123234e-17, -1.000000e+00,  0.000000e+00])"
      ]
     },
     "execution_count": 15,
     "metadata": {},
     "output_type": "execute_result"
    }
   ],
   "source": [
    "vA.show(B)"
   ]
  },
  {
   "cell_type": "code",
   "execution_count": 16,
   "metadata": {},
   "outputs": [],
   "source": [
    "vA2 = Vector(vA.show(B), frame=B)"
   ]
  },
  {
   "cell_type": "code",
   "execution_count": 17,
   "metadata": {},
   "outputs": [
    {
     "data": {
      "text/plain": [
       "array([1., 0., 0.])"
      ]
     },
     "execution_count": 17,
     "metadata": {},
     "output_type": "execute_result"
    }
   ],
   "source": [
    "vA2.show(A)"
   ]
  },
  {
   "cell_type": "code",
   "execution_count": 18,
   "metadata": {},
   "outputs": [
    {
     "data": {
      "text/plain": [
       "array([1., 0., 0.])"
      ]
     },
     "execution_count": 18,
     "metadata": {},
     "output_type": "execute_result"
    }
   ],
   "source": [
    "vA2.show()"
   ]
  },
  {
   "cell_type": "code",
   "execution_count": 19,
   "metadata": {},
   "outputs": [
    {
     "data": {
      "text/plain": [
       "VectorBase([ 6.123234e-17, -1.000000e+00,  0.000000e+00])"
      ]
     },
     "execution_count": 19,
     "metadata": {},
     "output_type": "execute_result"
    }
   ],
   "source": [
    "vA2.array"
   ]
  },
  {
   "cell_type": "code",
   "execution_count": 20,
   "metadata": {},
   "outputs": [
    {
     "data": {
      "text/plain": [
       "ReferenceFrame(ArrayBase([[ 6.123234e-17,  1.000000e+00,  0.000000e+00],\n",
       "           [-1.000000e+00,  6.123234e-17,  0.000000e+00],\n",
       "           [ 0.000000e+00,  0.000000e+00,  1.000000e+00]]))"
      ]
     },
     "execution_count": 20,
     "metadata": {},
     "output_type": "execute_result"
    }
   ],
   "source": [
    "vA2.frame"
   ]
  },
  {
   "cell_type": "code",
   "execution_count": 21,
   "metadata": {},
   "outputs": [
    {
     "data": {
      "text/plain": [
       "array([1., 0., 0.])"
      ]
     },
     "execution_count": 21,
     "metadata": {},
     "output_type": "execute_result"
    }
   ],
   "source": [
    "vA2.show()"
   ]
  },
  {
   "cell_type": "code",
   "execution_count": 1,
   "metadata": {},
   "outputs": [],
   "source": [
    "import unittest\n",
    "import doctest\n",
    "import operator\n",
    "\n",
    "import numpy as np\n",
    "from numpy import vstack\n",
    "from scipy.sparse import csr_matrix as csr_scipy\n",
    "from numba import njit\n",
    "import sympy as sy\n",
    "\n",
    "from sigmaepsilon.math.linalg.utils import random_pos_semidef_matrix, random_posdef_matrix\n",
    "from sigmaepsilon.math.logical import ispossemidef, isposdef\n",
    "from sigmaepsilon.math.linalg import (ReferenceFrame, RectangularFrame, CartesianFrame, ArrayWrapper,\n",
    "                            Vector, Tensor, Tensor2, Tensor4, Tensor2x3, Tensor4x3,\n",
    "                            inv3x3, det3x3, inv2x2u, inv3x3u, inv2x2, det2x2)\n",
    "from sigmaepsilon.math.linalg.solve import linsolve, reduce\n",
    "from sigmaepsilon.math.linalg.sparse import JaggedArray, csr_matrix\n",
    "from sigmaepsilon.math.linalg.sparse.jaggedarray import get_data\n",
    "import sigmaepsilon.math.linalg.sparse.utils as spu\n",
    "from sigmaepsilon.math import linalg\n",
    "from sigmaepsilon.math.linalg.exceptions import (LinalgOperationInputError, LinalgMissingInputError, \n",
    "                                       LinalgInvalidTensorOperationError, TensorShapeMismatchError)\n",
    "from sigmaepsilon.math.linalg import utils as lautils\n",
    "from sigmaepsilon.math import repeat\n",
    "from sigmaepsilon.math.linalg import top, dot, cross"
   ]
  },
  {
   "cell_type": "code",
   "execution_count": 2,
   "metadata": {},
   "outputs": [],
   "source": [
    "i=1\n",
    "a=120.\n",
    "\n",
    "# the original frame\n",
    "A = ReferenceFrame(dim=3)\n",
    "\n",
    "# the original vector\n",
    "vA = Vector([1., 0., 0.], frame=A)\n",
    "\n",
    "# random rotation\n",
    "amounts = [0., 0., 0.]\n",
    "amounts[i] = a * np.pi / 180\n",
    "B = A.orient_new('Body', amounts, 'XYZ')\n",
    "\n",
    "# Image of vA in B\n",
    "vB = Vector(vA.show(B), frame=B)\n",
    "\n",
    "# test if the image of vB in A is the same as vA\n",
    "assert np.all(np.isclose(vB.show(A), vA.array))"
   ]
  }
 ],
 "metadata": {
  "kernelspec": {
   "display_name": ".venv",
   "language": "python",
   "name": "python3"
  },
  "language_info": {
   "codemirror_mode": {
    "name": "ipython",
    "version": 3
   },
   "file_extension": ".py",
   "mimetype": "text/x-python",
   "name": "python",
   "nbconvert_exporter": "python",
   "pygments_lexer": "ipython3",
   "version": "3.8.10"
  },
  "orig_nbformat": 4,
  "vscode": {
   "interpreter": {
    "hash": "4e251a336b180e3c877fd4b81be72acfad98293ac2abcf90f00390a06765d313"
   }
  }
 },
 "nbformat": 4,
 "nbformat_minor": 2
}
