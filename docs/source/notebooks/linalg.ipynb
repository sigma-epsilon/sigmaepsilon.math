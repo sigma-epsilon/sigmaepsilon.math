{
 "cells": [
  {
   "cell_type": "markdown",
   "metadata": {},
   "source": [
    "# Linear Algebra"
   ]
  },
  {
   "cell_type": "markdown",
   "metadata": {},
   "source": [
    "## Arrays"
   ]
  },
  {
   "cell_type": "markdown",
   "metadata": {},
   "source": [
    "> **Note:**\n",
    "> This section is under development.\n"
   ]
  },
  {
   "cell_type": "markdown",
   "metadata": {},
   "source": [
    "## Vector Algebra"
   ]
  },
  {
   "cell_type": "markdown",
   "metadata": {},
   "source": [
    "As a basic example, consider two orthonormal frames in Euclidean space. The first one is the standard frame defined with the unit matrix $\\mathbf{I}$, the second is obtained by rotating $\\mathbf{I}$ around the $z$ axis with $90$ degrees. A vector is defined in $\\mathbf{I}$ (the source) and we want to know it's components in the rotated frame (the target)."
   ]
  },
  {
   "cell_type": "code",
   "execution_count": 11,
   "metadata": {},
   "outputs": [
    {
     "data": {
      "text/plain": [
       "array([0.8660254, 0.5      , 0.       ])"
      ]
     },
     "execution_count": 11,
     "metadata": {},
     "output_type": "execute_result"
    }
   ],
   "source": [
    "import numpy as np\n",
    "\n",
    "# the coordinates of a vector in the source frame\n",
    "arr_source = np.array([3 ** 0.5 / 2, 0.5, 0])\n",
    "arr_source"
   ]
  },
  {
   "cell_type": "markdown",
   "metadata": {},
   "source": [
    "### Solution with `NumPy`"
   ]
  },
  {
   "cell_type": "markdown",
   "metadata": {},
   "source": [
    "We can build up the DCM matrix manually and carry out the operations using NumPy."
   ]
  },
  {
   "cell_type": "code",
   "execution_count": 12,
   "metadata": {},
   "outputs": [
    {
     "data": {
      "text/plain": [
       "array([[ 0.,  1.,  0.],\n",
       "       [-1.,  0.,  0.],\n",
       "       [ 0.,  0.,  1.]])"
      ]
     },
     "execution_count": 12,
     "metadata": {},
     "output_type": "execute_result"
    }
   ],
   "source": [
    "from numpy import vstack\n",
    "\n",
    "# old base vectors in old frame\n",
    "e1 = np.array([1., 0., 0.])\n",
    "e2 = np.array([0., 1., 0.])\n",
    "e3 = np.array([0., 0., 1.])\n",
    "\n",
    "# new base vectors in old frame\n",
    "E1 = np.array([0., 1., 0.])\n",
    "E2 = np.array([-1., 0., 0.])\n",
    "E3 = np.array([0, 0., 1.])\n",
    "\n",
    "# direction cosine matrix from old to new\n",
    "DCM = vstack([E1, E2, E3])\n",
    "DCM"
   ]
  },
  {
   "cell_type": "markdown",
   "metadata": {},
   "source": [
    "From the definition of the DCM matrix, cooridnates of our vector in the target frame can be calculated as:"
   ]
  },
  {
   "cell_type": "code",
   "execution_count": 13,
   "metadata": {},
   "outputs": [
    {
     "data": {
      "text/plain": [
       "array([ 0.5      , -0.8660254,  0.       ])"
      ]
     },
     "execution_count": 13,
     "metadata": {},
     "output_type": "execute_result"
    }
   ],
   "source": [
    "arr_target = DCM @ arr_source\n",
    "arr_target"
   ]
  },
  {
   "cell_type": "markdown",
   "metadata": {},
   "source": [
    "### Solution with `SymPy`"
   ]
  },
  {
   "cell_type": "markdown",
   "metadata": {},
   "source": [
    "SymPy provides a mechanism for obtaining the DCM matrix between two frames:"
   ]
  },
  {
   "cell_type": "code",
   "execution_count": 14,
   "metadata": {},
   "outputs": [
    {
     "data": {
      "text/plain": [
       "array([[ 0.,  1.,  0.],\n",
       "       [-1.,  0.,  0.],\n",
       "       [ 0.,  0.,  1.]])"
      ]
     },
     "execution_count": 14,
     "metadata": {},
     "output_type": "execute_result"
    }
   ],
   "source": [
    "from sympy.physics.vector import ReferenceFrame\n",
    "\n",
    "source = ReferenceFrame('source')\n",
    "target = source.orientnew('target', 'Body', [0, 0, 90*np.pi/180],  'XYZ')\n",
    "DCM = np.array(target.dcm(source).evalf()).astype(float)\n",
    "DCM[np.abs(DCM) < 1e-12] = 0.\n",
    "DCM"
   ]
  },
  {
   "cell_type": "markdown",
   "metadata": {},
   "source": [
    "### Solution with `sigmaepsilon.math`"
   ]
  },
  {
   "cell_type": "markdown",
   "metadata": {},
   "source": [
    "In sigmaepsilon.math, the ReferenceFrame provides the machinery to establish a connection between two frames. First, we create the frames as:"
   ]
  },
  {
   "cell_type": "code",
   "execution_count": 15,
   "metadata": {},
   "outputs": [],
   "source": [
    "from sigmaepsilon.math.linalg import ReferenceFrame\n",
    "\n",
    "source = ReferenceFrame(dim=3)  # this is a 3 by 3 identity matrix\n",
    "target = source.orient_new('Body', [0, 0, 90*np.pi/180],  'XYZ')"
   ]
  },
  {
   "cell_type": "markdown",
   "metadata": {},
   "source": [
    "The DCM matrix for transformation from the source to the target can be calculated like this:"
   ]
  },
  {
   "cell_type": "code",
   "execution_count": 16,
   "metadata": {},
   "outputs": [
    {
     "data": {
      "text/plain": [
       "Array([[ 0.,  1.,  0.],\n",
       "       [-1.,  0.,  0.],\n",
       "       [ 0.,  0.,  1.]])"
      ]
     },
     "execution_count": 16,
     "metadata": {},
     "output_type": "execute_result"
    }
   ],
   "source": [
    "DCM = source.dcm(target=target)\n",
    "DCM[np.abs(DCM) < 1e-12] = 0.\n",
    "DCM"
   ]
  },
  {
   "cell_type": "markdown",
   "metadata": {},
   "source": [
    "or this"
   ]
  },
  {
   "cell_type": "code",
   "execution_count": 17,
   "metadata": {},
   "outputs": [
    {
     "data": {
      "text/plain": [
       "Array([[ 0.,  1.,  0.],\n",
       "       [-1.,  0.,  0.],\n",
       "       [ 0.,  0.,  1.]])"
      ]
     },
     "execution_count": 17,
     "metadata": {},
     "output_type": "execute_result"
    }
   ],
   "source": [
    "DCM = target.dcm(source=source)\n",
    "DCM[np.abs(DCM) < 1e-12] = 0.\n",
    "DCM"
   ]
  },
  {
   "cell_type": "markdown",
   "metadata": {},
   "source": [
    "or even this, since in this case the source frame is also the ambient frame:"
   ]
  },
  {
   "cell_type": "code",
   "execution_count": 18,
   "metadata": {},
   "outputs": [
    {
     "data": {
      "text/plain": [
       "array([[ 0.,  1.,  0.],\n",
       "       [-1.,  0.,  0.],\n",
       "       [ 0.,  0.,  1.]])"
      ]
     },
     "execution_count": 18,
     "metadata": {},
     "output_type": "execute_result"
    }
   ],
   "source": [
    "DCM = target.dcm()\n",
    "DCM[np.abs(DCM) < 1e-12] = 0.\n",
    "DCM"
   ]
  },
  {
   "cell_type": "markdown",
   "metadata": {},
   "source": [
    "To transform the vector into the target frame, we can use the Vector object directly, and it handles everything in the background."
   ]
  },
  {
   "cell_type": "code",
   "execution_count": 19,
   "metadata": {},
   "outputs": [
    {
     "data": {
      "text/plain": [
       "array([ 0.5      , -0.8660254,  0.       ])"
      ]
     },
     "execution_count": 19,
     "metadata": {},
     "output_type": "execute_result"
    }
   ],
   "source": [
    "from sigmaepsilon.math.linalg import Vector\n",
    "\n",
    "Vector(arr_source, frame=source).show(target)"
   ]
  },
  {
   "cell_type": "markdown",
   "metadata": {},
   "source": [
    "#### Remarks"
   ]
  },
  {
   "cell_type": "markdown",
   "metadata": {},
   "source": [
    "The following calls all return the identity matrix:"
   ]
  },
  {
   "cell_type": "code",
   "execution_count": 20,
   "metadata": {},
   "outputs": [
    {
     "data": {
      "text/plain": [
       "Array([[1., 0., 0.],\n",
       "       [0., 1., 0.],\n",
       "       [0., 0., 1.]])"
      ]
     },
     "execution_count": 20,
     "metadata": {},
     "output_type": "execute_result"
    }
   ],
   "source": [
    "target.dcm(target=target)\n",
    "target.dcm(source=target)\n",
    "source.dcm(target=source)\n",
    "source.dcm(source=source)"
   ]
  },
  {
   "cell_type": "markdown",
   "metadata": {},
   "source": [
    "## Tensor Algebra"
   ]
  },
  {
   "cell_type": "markdown",
   "metadata": {},
   "source": [
    "The library also provides tools to deal with tensors. The implementation has only three limitations:\n",
    "\n",
    "* The reference frames must be linear.\n",
    "* All the indices of a tensor must be either covariant or contravariant.\n",
    "* The sum total of indices used in any kind of operation must be less than or equal to 26. This is because the implementation relies on the `einsum` function in NumPy, and the english alphapet has 26 characters."
   ]
  },
  {
   "cell_type": "markdown",
   "metadata": {},
   "source": [
    "Create a Tensor of order 6 in a frame with random components:"
   ]
  },
  {
   "cell_type": "code",
   "execution_count": null,
   "metadata": {},
   "outputs": [],
   "source": [
    "from sigmaepsilon.math.linalg import Tensor, ReferenceFrame\n",
    "from numpy.random import rand\n",
    "\n",
    "frame = ReferenceFrame(dim=3)\n",
    "array = rand(3, 3, 3, 3, 3, 3)\n",
    "A = Tensor(array, frame=frame)"
   ]
  },
  {
   "cell_type": "markdown",
   "metadata": {},
   "source": [
    "Get the tensor in the dual frame:"
   ]
  },
  {
   "cell_type": "code",
   "execution_count": null,
   "metadata": {},
   "outputs": [],
   "source": [
    "A_dual = A.dual()"
   ]
  },
  {
   "cell_type": "markdown",
   "metadata": {},
   "source": [
    "Create an other tensor, in this case a 5th-order one, and calculate their generalized dot product, which is a 9th-order tensor:"
   ]
  },
  {
   "cell_type": "code",
   "execution_count": null,
   "metadata": {},
   "outputs": [],
   "source": [
    "from sigmaepsilon.math.linalg import dot\n",
    "\n",
    "array = rand(3, 3, 3, 3, 3)\n",
    "B = Tensor(array, frame=frame)\n",
    "C = dot(A, B, axes=[0, 0])\n",
    "assert C.rank == (A.rank + B.rank - 2)"
   ]
  }
 ],
 "metadata": {
  "kernelspec": {
   "display_name": "Python 3.8.10 ('.venv': venv)",
   "language": "python",
   "name": "python3"
  },
  "language_info": {
   "codemirror_mode": {
    "name": "ipython",
    "version": 3
   },
   "file_extension": ".py",
   "mimetype": "text/x-python",
   "name": "python",
   "nbconvert_exporter": "python",
   "pygments_lexer": "ipython3",
   "version": "3.10.11"
  },
  "orig_nbformat": 4,
  "vscode": {
   "interpreter": {
    "hash": "4e251a336b180e3c877fd4b81be72acfad98293ac2abcf90f00390a06765d313"
   }
  }
 },
 "nbformat": 4,
 "nbformat_minor": 2
}
