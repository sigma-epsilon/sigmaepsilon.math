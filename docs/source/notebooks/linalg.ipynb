{
 "cells": [
  {
   "cell_type": "markdown",
   "metadata": {},
   "source": [
    "# Linear Algebra"
   ]
  },
  {
   "cell_type": "markdown",
   "metadata": {},
   "source": [
    "It is safe to say that linear algebra is the cornerstone of modern mathematical physics, providing the essential tools for understanding and solving a wide range of problems. From the study of vector spaces and transformations to eigenvalue problems and matrix operations, linear algebra forms the foundation for many physical theories. Whether in classical mechanics, quantum physics, relativity, or electrodynamics, linear algebra enables the representation of physical quantities, the formulation of physical laws, and the manipulation of complex systems in an efficient and structured way. Its concepts permeate the formulation of everything from equations of motion to the quantum states of particles, making it indispensable for both theoretical insights and practical computations."
   ]
  },
  {
   "cell_type": "markdown",
   "metadata": {},
   "source": [
    "Opposed to the widespread disbelief, vectors are not merely 1D arrays, and tensors are not simply multi-dimensional arrays either. While it’s common to represent vectors and tensors in this form for computational convenience, their true nature is far more profound. Vectors exist in an abstract vector space and only take on specific numerical values when projected onto a basis. Similarly, tensors are generalized multi-linear mappings that relate vectors, scalars, and other tensors in ways that transcend their array-like representations. Their intrinsic properties remain invariant under transformations, making them essential tools in describing physical phenomena, from forces and fields to stress and strain in materials, in a way that doesn’t depend on arbitrary choices of coordinates."
   ]
  },
  {
   "cell_type": "markdown",
   "metadata": {},
   "source": [
    "**The linear algebra submodule in `sigmaepsilon.math` provides implementations of Vectors and Tensors as they are fundamentally understood in physics.**"
   ]
  },
  {
   "cell_type": "markdown",
   "metadata": {},
   "source": [
    "## Arrays"
   ]
  },
  {
   "cell_type": "markdown",
   "metadata": {},
   "source": [
    "The library provides some classes for arrays, namely [Array](..\\api\\api_linalg.rst#Array), [JaggedArray](..\\api\\api_linalg.rst#JaggedArray) and [csr_matrix](..\\api\\api_linalg.rst#csr_matrix)."
   ]
  },
  {
   "cell_type": "markdown",
   "metadata": {},
   "source": [
    "### `Array`"
   ]
  },
  {
   "cell_type": "markdown",
   "metadata": {},
   "source": [
    "The `Array` class is basically the same as the `ndarray` class in NumPy, with the minor difference that it has a safe metaclass, meaning that there is a safety mechanism that prevents you from unintentionally crashing the internal behaviour of the class upon subclassing. This practically means, that you will see an error if you try to shadow a definition in any of the base classes of the class. For this reason it is safer to subclass this class rather than to directly subclass NumPy's ndarray class."
   ]
  },
  {
   "cell_type": "markdown",
   "metadata": {},
   "source": [
    "### `JaggedArray`"
   ]
  },
  {
   "cell_type": "markdown",
   "metadata": {},
   "source": [
    "Jagged arrays are like matrices (2d arrays) that have rows of different length. The class wraps either a NumPy array or an Awkward array in the background, depending on the input and generalizes some matrix operations for the jagged case."
   ]
  },
  {
   "cell_type": "code",
   "execution_count": 55,
   "metadata": {},
   "outputs": [
    {
     "data": {
      "text/plain": [
       "array([[1, 2, 3],\n",
       "       [4, 5, 6],\n",
       "       [7, 8, 9]])"
      ]
     },
     "execution_count": 55,
     "metadata": {},
     "output_type": "execute_result"
    }
   ],
   "source": [
    "from sigmaepsilon.math.linalg import JaggedArray\n",
    "import numpy as np\n",
    "\n",
    "data = np.array([1, 2, 3, 4, 5, 6, 7, 8, 9])\n",
    "arr = JaggedArray(data, cuts=[3, 3, 3])\n",
    "arr"
   ]
  },
  {
   "cell_type": "code",
   "execution_count": 56,
   "metadata": {},
   "outputs": [
    {
     "data": {
      "text/plain": [
       "numpy.ndarray"
      ]
     },
     "execution_count": 56,
     "metadata": {},
     "output_type": "execute_result"
    }
   ],
   "source": [
    "type(arr._wrapped)"
   ]
  },
  {
   "cell_type": "code",
   "execution_count": 57,
   "metadata": {},
   "outputs": [
    {
     "data": {
      "text/plain": [
       "False"
      ]
     },
     "execution_count": 57,
     "metadata": {},
     "output_type": "execute_result"
    }
   ],
   "source": [
    "arr.is_jagged()"
   ]
  },
  {
   "cell_type": "code",
   "execution_count": 58,
   "metadata": {},
   "outputs": [
    {
     "data": {
      "text/plain": [
       "array([3, 3, 3], dtype=int64)"
      ]
     },
     "execution_count": 58,
     "metadata": {},
     "output_type": "execute_result"
    }
   ],
   "source": [
    "arr.widths()"
   ]
  },
  {
   "cell_type": "markdown",
   "metadata": {},
   "source": [
    "The underlying array in this case is a NumPy array and it should behave like one, you can use it as a drop-in replacement. However, the constructor of the class accepts a `force_numpy` parameter, which is `True` by default. It means that the constructor will try to use NumPy whenever possible and only uses Awkward if the input is truly jagged."
   ]
  },
  {
   "cell_type": "code",
   "execution_count": 59,
   "metadata": {},
   "outputs": [
    {
     "data": {
      "text/html": [
       "<pre>[[1, 2, 3],\n",
       " [4, 5, 6],\n",
       " [7, 8, 9, 10]]\n",
       "---------------------\n",
       "type: 3 * var * int32</pre>"
      ],
      "text/plain": [
       "<Array [[1, 2, 3], [4, 5, 6], [7, 8, 9, 10]] type='3 * var * int32'>"
      ]
     },
     "execution_count": 59,
     "metadata": {},
     "output_type": "execute_result"
    }
   ],
   "source": [
    "data = np.array([1, 2, 3, 4, 5, 6, 7, 8, 9, 10])\n",
    "arr = JaggedArray(data, cuts=[3, 3, 4])\n",
    "arr"
   ]
  },
  {
   "cell_type": "code",
   "execution_count": 60,
   "metadata": {},
   "outputs": [
    {
     "data": {
      "text/plain": [
       "awkward.highlevel.Array"
      ]
     },
     "execution_count": 60,
     "metadata": {},
     "output_type": "execute_result"
    }
   ],
   "source": [
    "type(arr._wrapped)"
   ]
  },
  {
   "cell_type": "code",
   "execution_count": 61,
   "metadata": {},
   "outputs": [
    {
     "data": {
      "text/plain": [
       "True"
      ]
     },
     "execution_count": 61,
     "metadata": {},
     "output_type": "execute_result"
    }
   ],
   "source": [
    "arr.is_jagged()"
   ]
  },
  {
   "cell_type": "code",
   "execution_count": 62,
   "metadata": {},
   "outputs": [
    {
     "data": {
      "text/plain": [
       "array([3, 3, 4], dtype=int64)"
      ]
     },
     "execution_count": 62,
     "metadata": {},
     "output_type": "execute_result"
    }
   ],
   "source": [
    "arr.widths()"
   ]
  },
  {
   "cell_type": "markdown",
   "metadata": {},
   "source": [
    "The class generalizes some NumPy functions to jagged arrays, like `unique` and `concatenate`."
   ]
  },
  {
   "cell_type": "code",
   "execution_count": 63,
   "metadata": {},
   "outputs": [
    {
     "data": {
      "text/plain": [
       "array([1, 2, 3, 4, 5, 6, 7, 8, 9])"
      ]
     },
     "execution_count": 63,
     "metadata": {},
     "output_type": "execute_result"
    }
   ],
   "source": [
    "data = np.array([1, 2, 3, 4, 5, 6, 7, 8, 9, 9])\n",
    "arr = JaggedArray(data, cuts=[3, 3, 4])\n",
    "np.unique(arr)"
   ]
  },
  {
   "cell_type": "code",
   "execution_count": 64,
   "metadata": {},
   "outputs": [
    {
     "data": {
      "text/html": [
       "<pre>[[1, 2, 3],\n",
       " [4, 5, 6],\n",
       " [7, 8, 9, 10],\n",
       " [1, 2, 3],\n",
       " [4, 5],\n",
       " [6, 7, 8, 9, 10, 11]]\n",
       "----------------------\n",
       "type: 6 * var * int32</pre>"
      ],
      "text/plain": [
       "<Array [[1, 2, 3], [4, ...], ..., [6, 7, 8, 9, 10, 11]] type='6 * var * int32'>"
      ]
     },
     "execution_count": 64,
     "metadata": {},
     "output_type": "execute_result"
    }
   ],
   "source": [
    "data = np.array([1, 2, 3, 4, 5, 6, 7, 8, 9, 10])\n",
    "arr1 = JaggedArray(data, cuts=[3, 3, 4])\n",
    "\n",
    "data = np.array([1, 2, 3, 4, 5, 6, 7, 8, 9, 10, 11])\n",
    "arr2 = JaggedArray(data, cuts=[3, 2, 6])\n",
    "\n",
    "np.concatenate([arr1, arr2])"
   ]
  },
  {
   "cell_type": "markdown",
   "metadata": {},
   "source": [
    "For other operations, use the `to_array` method of the instance, which will return either a NumPy or an Awkward array, both of which has support for all the operations you might need, and you can use the result to initialize another `JaggedArray` instance if necessary."
   ]
  },
  {
   "cell_type": "code",
   "execution_count": 65,
   "metadata": {},
   "outputs": [
    {
     "data": {
      "text/html": [
       "<pre>[[3, 6, 9],\n",
       " [12, 15, 18],\n",
       " [21, 24, 27, 27]]\n",
       "---------------------\n",
       "type: 3 * var * int32</pre>"
      ],
      "text/plain": [
       "<Array [[3, 6, 9], [12, ..., 18], [21, 24, 27, 27]] type='3 * var * int32'>"
      ]
     },
     "execution_count": 65,
     "metadata": {},
     "output_type": "execute_result"
    }
   ],
   "source": [
    "data = np.array([1, 2, 3, 4, 5, 6, 7, 8, 9, 9])\n",
    "arr = JaggedArray(data, cuts=[3, 3, 4])\n",
    "arr = JaggedArray(arr.to_array()*3)\n",
    "arr"
   ]
  },
  {
   "cell_type": "markdown",
   "metadata": {},
   "source": [
    "You can also use the `JaggedArray` class to transform between different data formats. For the details of this transformation functions, consult the API Reference."
   ]
  },
  {
   "cell_type": "code",
   "execution_count": 66,
   "metadata": {},
   "outputs": [
    {
     "data": {
      "text/plain": [
       "<Compressed Sparse Row sparse matrix of dtype 'float64'\n",
       "\twith 10 stored elements and shape (3, 4)>"
      ]
     },
     "execution_count": 66,
     "metadata": {},
     "output_type": "execute_result"
    }
   ],
   "source": [
    "arr.to_array()  # returns a NumPy or an Awkward array\n",
    "arr.to_ak()     # returns an Awkward array\n",
    "arr.to_numpy()  # returns a dense NumPy array\n",
    "arr.to_list()   # returns a list of lists\n",
    "arr.to_csr()    # returns an instance of sigmaepsilon.math.linalg.sparse.csr_matrix\n",
    "arr.to_scipy()  # returns an instance of scipy.sparse.csr_matrix"
   ]
  },
  {
   "cell_type": "markdown",
   "metadata": {},
   "source": [
    "### `csr_matrix`"
   ]
  },
  {
   "cell_type": "markdown",
   "metadata": {},
   "source": [
    "The `csr_matrix` class is basically a remake of the similar class in SciPy, with the addition that it is Numba-jittable. To create an instance, you can start from a `JaggedArray` instance, or use any other input you would use with a SciPy csr matrix."
   ]
  },
  {
   "cell_type": "code",
   "execution_count": 67,
   "metadata": {},
   "outputs": [
    {
     "data": {
      "text/plain": [
       "3x4 CSR matrix of 12 values."
      ]
     },
     "execution_count": 67,
     "metadata": {},
     "output_type": "execute_result"
    }
   ],
   "source": [
    "from scipy.sparse import csr_matrix as csr_scipy\n",
    "from sigmaepsilon.math.linalg import csr_matrix\n",
    "\n",
    "# create a JaggedArray and convert it to a scipy.sparse.csr_matrix\n",
    "data = np.array([1, 2, 3, 4, 5, 6, 7, 8, 9, 10])\n",
    "scipy_matrix = JaggedArray(data, cuts=[3, 3, 4]).to_csr()\n",
    "\n",
    "# create a csr_matrix instance from a dense NumPy array\n",
    "scipy_matrix = csr_scipy((3, 4), dtype=np.int8).toarray()\n",
    "csr_matrix(scipy_matrix)"
   ]
  },
  {
   "cell_type": "markdown",
   "metadata": {},
   "source": [
    "Instances of the `csr_matrix` class are Numba-jittable, with some attributed and methods accessible inside Numba-jitted functions, even in nopython-mode."
   ]
  },
  {
   "cell_type": "code",
   "execution_count": 68,
   "metadata": {},
   "outputs": [
    {
     "data": {
      "text/plain": [
       "(array([1., 2.]), array([0, 2]))"
      ]
     },
     "execution_count": 68,
     "metadata": {},
     "output_type": "execute_result"
    }
   ],
   "source": [
    "from numba import jit\n",
    "\n",
    "\n",
    "@jit(nopython=True, nogil=True)\n",
    "def numba_nopython(csr: csr_matrix, i: int):\n",
    "    csr.data\n",
    "    csr.indices\n",
    "    csr.indptr\n",
    "    csr.shape\n",
    "    return csr.row(i), csr.irow(i)\n",
    "\n",
    "\n",
    "row = np.array([0, 0, 1, 2, 2, 2])\n",
    "col = np.array([0, 2, 2, 0, 1, 2])\n",
    "data = np.array([1, 2, 3, 4, 5, 6])\n",
    "matrix = csr_scipy((data, (row, col)), shape=(3, 3))\n",
    "\n",
    "csr = csr_matrix(matrix)\n",
    "numba_nopython(csr, 0)"
   ]
  },
  {
   "cell_type": "markdown",
   "metadata": {},
   "source": [
    "## Reference Frames"
   ]
  },
  {
   "cell_type": "markdown",
   "metadata": {},
   "source": [
    "Whether you are working with vectors or tensors, in order to represent them as one or multi-dimensional arrays, you need a reference frame. The `sigmaepsilon.math.linalg` provides you with the following classes to represent reference frames:\n",
    "\n",
    "- [ReferenceFrame](..\\api\\api_linalg.rst#ReferenceFrame): The most general reference frame, allowing for arbitrary settings. Base vectors do not need to be orthogonal, nor normalized.\n",
    "- [RectangularFrame](..\\api\\api_linalg.rst#RectangularFrame): For the case when base vectors are not normalized, but orthogonal.\n",
    "- [CartesianFrame](..\\api\\api_linalg.rst#RectangularFrame): For frames with orthonormal base vectors.\n",
    "\n",
    "Of course, you can just use the most general `ReferenceFrame` class and accept that some calculations might involve computing the Gram matrix, which in some cases would simplify to the identity matrix, meaning that the class is a bit overpower for your needs. Or, you can go with the `RectangularFrame` and `CartesianFrame` classes that might be a better choice for your problem and they are computationally more efficient. The good thing is that you don't have to worry about crossing the boundaries between these types, the library takes care of everything for you."
   ]
  },
  {
   "cell_type": "code",
   "execution_count": 69,
   "metadata": {},
   "outputs": [],
   "source": [
    "from sigmaepsilon.math.linalg import ReferenceFrame, RectangularFrame, CartesianFrame"
   ]
  },
  {
   "cell_type": "markdown",
   "metadata": {},
   "source": [
    "Let's say you get your hands on a cartesian frame (one with orthonormal basis vectors)."
   ]
  },
  {
   "cell_type": "code",
   "execution_count": 70,
   "metadata": {},
   "outputs": [],
   "source": [
    "frame = CartesianFrame(dim=3)"
   ]
  },
  {
   "cell_type": "markdown",
   "metadata": {},
   "source": [
    "Now there are some operations you can apply on a frame. Some of these operations would result in another frame, which is not cartesian. Some operations would modify the frame inplace and result in the instance losing the property of orthogonality or normality. For instance, if all basis vectors were multiplied by a scalar, the new basis vectors would be still orthogonal, but not normal."
   ]
  },
  {
   "cell_type": "code",
   "execution_count": 71,
   "metadata": {},
   "outputs": [
    {
     "data": {
      "text/plain": [
       "sigmaepsilon.math.linalg.frame.RectangularFrame"
      ]
     },
     "execution_count": 71,
     "metadata": {},
     "output_type": "execute_result"
    }
   ],
   "source": [
    "type(frame*2)"
   ]
  },
  {
   "cell_type": "markdown",
   "metadata": {},
   "source": [
    "As you can see, in this case the instance created by the operation is the next most general one, which is a `RectangularFrame`. If let's say no you wanted to increment all coordinates of the basis vectors by the same scalar, there would be no guarantee of the basis vectors of the resulting frame to being either orthogonal nor normal, hence the frame created by the operation is the most general one, an instance of `ReferenceFrame`."
   ]
  },
  {
   "cell_type": "code",
   "execution_count": 72,
   "metadata": {},
   "outputs": [
    {
     "data": {
      "text/plain": [
       "sigmaepsilon.math.linalg.frame.ReferenceFrame"
      ]
     },
     "execution_count": 72,
     "metadata": {},
     "output_type": "execute_result"
    }
   ],
   "source": [
    "type(frame+2)"
   ]
  },
  {
   "cell_type": "markdown",
   "metadata": {},
   "source": [
    " The good new is that you don't really have to worry about these things as the library will choose the most appropriate class for the output, depending on the nature of the operation."
   ]
  },
  {
   "cell_type": "code",
   "execution_count": 73,
   "metadata": {},
   "outputs": [
    {
     "data": {
      "text/plain": [
       "sigmaepsilon.math.linalg.frame.CartesianFrame"
      ]
     },
     "execution_count": 73,
     "metadata": {},
     "output_type": "execute_result"
    }
   ],
   "source": [
    "type(frame)"
   ]
  },
  {
   "cell_type": "code",
   "execution_count": 74,
   "metadata": {},
   "outputs": [
    {
     "data": {
      "text/plain": [
       "sigmaepsilon.math.linalg.frame.RectangularFrame"
      ]
     },
     "execution_count": 74,
     "metadata": {},
     "output_type": "execute_result"
    }
   ],
   "source": [
    "frame *=2\n",
    "type(frame)"
   ]
  },
  {
   "cell_type": "code",
   "execution_count": 75,
   "metadata": {},
   "outputs": [
    {
     "data": {
      "text/plain": [
       "sigmaepsilon.math.linalg.frame.ReferenceFrame"
      ]
     },
     "execution_count": 75,
     "metadata": {},
     "output_type": "execute_result"
    }
   ],
   "source": [
    "frame +=2\n",
    "type(frame)"
   ]
  },
  {
   "cell_type": "code",
   "execution_count": 76,
   "metadata": {},
   "outputs": [
    {
     "data": {
      "text/plain": [
       "Array([[4., 2., 2.],\n",
       "       [2., 4., 2.],\n",
       "       [2., 2., 4.]])"
      ]
     },
     "execution_count": 76,
     "metadata": {},
     "output_type": "execute_result"
    }
   ],
   "source": [
    "frame.axes"
   ]
  },
  {
   "cell_type": "markdown",
   "metadata": {},
   "source": [
    "You can see that the basis vectors of the frame are no longer orthogonal or normed, but they are still independent."
   ]
  },
  {
   "cell_type": "code",
   "execution_count": 77,
   "metadata": {},
   "outputs": [
    {
     "data": {
      "text/plain": [
       "False"
      ]
     },
     "execution_count": 77,
     "metadata": {},
     "output_type": "execute_result"
    }
   ],
   "source": [
    "frame.is_cartesian"
   ]
  },
  {
   "cell_type": "code",
   "execution_count": 78,
   "metadata": {},
   "outputs": [
    {
     "data": {
      "text/plain": [
       "False"
      ]
     },
     "execution_count": 78,
     "metadata": {},
     "output_type": "execute_result"
    }
   ],
   "source": [
    "frame.is_rectangular"
   ]
  },
  {
   "cell_type": "code",
   "execution_count": 79,
   "metadata": {},
   "outputs": [
    {
     "data": {
      "text/plain": [
       "True"
      ]
     },
     "execution_count": 79,
     "metadata": {},
     "output_type": "execute_result"
    }
   ],
   "source": [
    "frame.is_independent"
   ]
  },
  {
   "cell_type": "markdown",
   "metadata": {},
   "source": [
    "It is also possible to get the dual frame (aka. reciprocal frame) of a frame. This is one example where the `CartesianFrame` is computationally more effective, as the dual frame of an orthonormal frame is itself."
   ]
  },
  {
   "cell_type": "code",
   "execution_count": 80,
   "metadata": {},
   "outputs": [
    {
     "data": {
      "text/plain": [
       "Array([[ 0.375, -0.125, -0.125],\n",
       "       [-0.125,  0.375, -0.125],\n",
       "       [-0.125, -0.125,  0.375]])"
      ]
     },
     "execution_count": 80,
     "metadata": {},
     "output_type": "execute_result"
    }
   ],
   "source": [
    "frame.dual()"
   ]
  },
  {
   "cell_type": "markdown",
   "metadata": {},
   "source": [
    "## Vectors"
   ]
  },
  {
   "cell_type": "markdown",
   "metadata": {},
   "source": [
    "As a basic example, consider two orthonormal frames in Euclidean space. The first one is the standard frame defined with the unit matrix $\\mathbf{I}$, the second is obtained by rotating $\\mathbf{I}$ around the $z$ axis with $90$ degrees. A vector is defined in $\\mathbf{I}$ (the source) and we want to know it's components in the rotated frame (the target)."
   ]
  },
  {
   "cell_type": "markdown",
   "metadata": {},
   "source": [
    "We begin by creating the coordinates of the vector as an 1d array."
   ]
  },
  {
   "cell_type": "code",
   "execution_count": 81,
   "metadata": {},
   "outputs": [
    {
     "data": {
      "text/plain": [
       "array([0.8660254, 0.5      , 0.       ])"
      ]
     },
     "execution_count": 81,
     "metadata": {},
     "output_type": "execute_result"
    }
   ],
   "source": [
    "import numpy as np\n",
    "\n",
    "# the coordinates of a vector in the source frame\n",
    "arr_source = np.array([3 ** 0.5 / 2, 0.5, 0])\n",
    "arr_source"
   ]
  },
  {
   "cell_type": "markdown",
   "metadata": {},
   "source": [
    "In sigmaepsilon.math, the [ReferenceFrame](..\\api\\api_linalg.rst#ReferenceFrame) class provides the machinery to establish a connection between two frames. First, we create the frames as:"
   ]
  },
  {
   "cell_type": "code",
   "execution_count": 82,
   "metadata": {},
   "outputs": [],
   "source": [
    "from sigmaepsilon.math.linalg import ReferenceFrame\n",
    "\n",
    "source_frame = ReferenceFrame(dim=3)  # this is a 3 by 3 identity matrix\n",
    "target_frame = source_frame.orient_new('Body', [0, 0, 90*np.pi/180],  'XYZ')"
   ]
  },
  {
   "cell_type": "markdown",
   "metadata": {},
   "source": [
    "To transform the vector into the target frame, we can use the Vector object directly, and it handles everything in the background."
   ]
  },
  {
   "cell_type": "code",
   "execution_count": 83,
   "metadata": {},
   "outputs": [
    {
     "data": {
      "text/plain": [
       "array([ 0.5      , -0.8660254,  0.       ])"
      ]
     },
     "execution_count": 83,
     "metadata": {},
     "output_type": "execute_result"
    }
   ],
   "source": [
    "from sigmaepsilon.math.linalg import Vector\n",
    "\n",
    "arr_target = Vector(arr_source, frame=source_frame).show(target_frame)\n",
    "arr_target"
   ]
  },
  {
   "cell_type": "markdown",
   "metadata": {},
   "source": [
    "## Tensors"
   ]
  },
  {
   "cell_type": "markdown",
   "metadata": {},
   "source": [
    "The library also provides tools to deal with tensors. The implementation has only three limitations:\n",
    "\n",
    "* The reference frames must be linear.\n",
    "* All the indices of a tensor must be either covariant or contravariant.\n",
    "* The sum total of indices used in any kind of operation must be less than or equal to 26. This is because the implementation relies on the `einsum` function in NumPy, and the english alphapet has 26 characters."
   ]
  },
  {
   "cell_type": "markdown",
   "metadata": {},
   "source": [
    "Create a Tensor of order 6 in a frame with random components:"
   ]
  },
  {
   "cell_type": "code",
   "execution_count": 97,
   "metadata": {},
   "outputs": [],
   "source": [
    "from sigmaepsilon.math.linalg import Tensor, ReferenceFrame\n",
    "from numpy.random import rand\n",
    "\n",
    "frame = ReferenceFrame(dim=3)\n",
    "array = rand(3, 3, 3, 3, 3, 3)\n",
    "A = Tensor(array, frame=frame)"
   ]
  },
  {
   "cell_type": "markdown",
   "metadata": {},
   "source": [
    "Get the tensor in the dual frame:"
   ]
  },
  {
   "cell_type": "code",
   "execution_count": 98,
   "metadata": {},
   "outputs": [],
   "source": [
    "A_dual = A.dual()"
   ]
  },
  {
   "cell_type": "markdown",
   "metadata": {},
   "source": [
    "Create an other tensor, in this case a 5th-order one, and calculate their generalized dot product, which is a 9th-order tensor:"
   ]
  },
  {
   "cell_type": "code",
   "execution_count": 99,
   "metadata": {},
   "outputs": [],
   "source": [
    "from sigmaepsilon.math.linalg import dot\n",
    "\n",
    "array = rand(3, 3, 3, 3, 3)\n",
    "B = Tensor(array, frame=frame)\n",
    "C = dot(A, B, axes=[0, 0])\n",
    "assert C.rank == (A.rank + B.rank - 2)"
   ]
  },
  {
   "cell_type": "markdown",
   "metadata": {},
   "source": [
    "The library also provides dedicated tensor classes for the most common quantities of engineering practice."
   ]
  },
  {
   "cell_type": "code",
   "execution_count": 100,
   "metadata": {},
   "outputs": [],
   "source": [
    "from sigmaepsilon.math.linalg import Tensor2, Tensor4, Tensor2x3, Tensor4x3"
   ]
  },
  {
   "cell_type": "markdown",
   "metadata": {},
   "source": [
    "## Objectivity of Tensorial Quantities"
   ]
  },
  {
   "cell_type": "markdown",
   "metadata": {},
   "source": [
    "A remarkable feature of the library is that tensorial quantities (like vectors and tensors) keep their objectivity with respect to changes of their host reference frame. To show this, create a new vector."
   ]
  },
  {
   "cell_type": "code",
   "execution_count": 101,
   "metadata": {},
   "outputs": [],
   "source": [
    "arr = np.array([1, 0, 0])\n",
    "frame = ReferenceFrame(dim=3)\n",
    "vector = Vector(arr, frame=frame)"
   ]
  },
  {
   "cell_type": "markdown",
   "metadata": {},
   "source": [
    "Now transform the hosting frame of the vector inplace."
   ]
  },
  {
   "cell_type": "code",
   "execution_count": 102,
   "metadata": {},
   "outputs": [
    {
     "data": {
      "text/plain": [
       "Array([[ 6.123234e-17, -1.000000e+00,  0.000000e+00],\n",
       "       [ 1.000000e+00,  6.123234e-17,  0.000000e+00],\n",
       "       [ 0.000000e+00,  0.000000e+00,  1.000000e+00]])"
      ]
     },
     "execution_count": 102,
     "metadata": {},
     "output_type": "execute_result"
    }
   ],
   "source": [
    "frame.orient('Body', [0, 0, -90*np.pi/180],  'XYZ')\n",
    "frame.axes"
   ]
  },
  {
   "cell_type": "markdown",
   "metadata": {},
   "source": [
    "If you now check the coordinates of the vector, you will see that they have changed, due to the changes in the hosting frame."
   ]
  },
  {
   "cell_type": "code",
   "execution_count": 103,
   "metadata": {},
   "outputs": [
    {
     "data": {
      "text/plain": [
       "Array([6.123234e-17, 1.000000e+00, 0.000000e+00])"
      ]
     },
     "execution_count": 103,
     "metadata": {},
     "output_type": "execute_result"
    }
   ],
   "source": [
    "vector.array"
   ]
  },
  {
   "cell_type": "markdown",
   "metadata": {},
   "source": [
    "However, the vector stayed the same. You can check this, by asking for the coordinates of the vector in the ambient frame (which in this case is the frame it was defined in)."
   ]
  },
  {
   "cell_type": "code",
   "execution_count": 104,
   "metadata": {},
   "outputs": [
    {
     "data": {
      "text/plain": [
       "array([1., 0., 0.])"
      ]
     },
     "execution_count": 104,
     "metadata": {},
     "output_type": "execute_result"
    }
   ],
   "source": [
    "vector.show()"
   ]
  },
  {
   "cell_type": "markdown",
   "metadata": {},
   "source": [
    "The point is that if a quantity is tensorial, it doesn't matter which frame you define the quantity in, since its meaning is independent from the hosting frame. Therefore, if the hosting frame changes, the coordinates of the tensorial quantity must change as well. A more trivial example is the following:"
   ]
  },
  {
   "cell_type": "code",
   "execution_count": 105,
   "metadata": {},
   "outputs": [
    {
     "data": {
      "text/plain": [
       "Array([0.5, 0. , 0. ])"
      ]
     },
     "execution_count": 105,
     "metadata": {},
     "output_type": "execute_result"
    }
   ],
   "source": [
    "arr = np.array([1, 0, 0])\n",
    "frame = ReferenceFrame(dim=3)\n",
    "vector = Vector(arr, frame=frame)\n",
    "frame *= 2\n",
    "vector.array"
   ]
  },
  {
   "cell_type": "markdown",
   "metadata": {},
   "source": [
    "It makes perfect sense. The length of the basis vectors doubled, so the coordinates shrunk to half of the original values. Resetting the basis vectors (axes) of the hosting frame, resets the coordinates of the vector as well."
   ]
  },
  {
   "cell_type": "code",
   "execution_count": 106,
   "metadata": {},
   "outputs": [
    {
     "data": {
      "text/plain": [
       "Array([1., 0., 0.])"
      ]
     },
     "execution_count": 106,
     "metadata": {},
     "output_type": "execute_result"
    }
   ],
   "source": [
    "frame.axes = np.eye(3)\n",
    "vector.array"
   ]
  },
  {
   "cell_type": "markdown",
   "metadata": {},
   "source": [
    "In fact, thanks to the flexibility of the `ReferenceFrame` class, you can assign any 3x3 positive definite matrix to the axes of the frame, and the meaning of the vector wouldn't change a thing. You can check this by asking for the coordinates of the vector in a fixed frame, which can be the ambient frame as well."
   ]
  },
  {
   "cell_type": "code",
   "execution_count": 114,
   "metadata": {},
   "outputs": [
    {
     "data": {
      "text/plain": [
       "array([1.00000000e+00, 1.68551824e-12, 4.61957139e-13])"
      ]
     },
     "execution_count": 114,
     "metadata": {},
     "output_type": "execute_result"
    }
   ],
   "source": [
    "from sigmaepsilon.math.linalg import random_posdef_matrix\n",
    "\n",
    "random_axes = random_posdef_matrix(3) * 100\n",
    "frame.axes = random_axes\n",
    "vector.show()"
   ]
  }
 ],
 "metadata": {
  "kernelspec": {
   "display_name": "Python 3.8.10 ('.venv': venv)",
   "language": "python",
   "name": "python3"
  },
  "language_info": {
   "codemirror_mode": {
    "name": "ipython",
    "version": 3
   },
   "file_extension": ".py",
   "mimetype": "text/x-python",
   "name": "python",
   "nbconvert_exporter": "python",
   "pygments_lexer": "ipython3",
   "version": "3.10.11"
  },
  "orig_nbformat": 4,
  "vscode": {
   "interpreter": {
    "hash": "4e251a336b180e3c877fd4b81be72acfad98293ac2abcf90f00390a06765d313"
   }
  }
 },
 "nbformat": 4,
 "nbformat_minor": 2
}
