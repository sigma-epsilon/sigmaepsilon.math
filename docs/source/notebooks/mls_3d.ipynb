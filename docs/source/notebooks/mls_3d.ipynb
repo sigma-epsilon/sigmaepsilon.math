{
 "cells": [
  {
   "cell_type": "code",
   "execution_count": 7,
   "metadata": {},
   "outputs": [],
   "source": [
    "import numpy as np\n",
    "\n",
    "nx, ny, nz = (10, 10, 10)\n",
    "x = np.linspace(0, 1, nx)\n",
    "y = np.linspace(0, 1, ny)\n",
    "z = np.linspace(0, 1, nz)\n",
    "xv, yv, zv = np.meshgrid(x, y, z)\n",
    "points = np.stack([xv.flatten(), yv.flatten(), zv.flatten()], axis=-1)\n",
    "values = np.random.rand(nx*ny*nz)\n",
    "del xv, yv, zv, x, y, z"
   ]
  },
  {
   "cell_type": "code",
   "execution_count": 8,
   "metadata": {},
   "outputs": [
    {
     "data": {
      "text/plain": [
       "(array([0.34213131]),\n",
       " array([0.20802815]),\n",
       " array([0.14990781]),\n",
       " array([0.27132217]),\n",
       " array([0.]),\n",
       " array([0.]),\n",
       " array([0.]),\n",
       " array([0.]),\n",
       " array([0.]),\n",
       " array([0.]))"
      ]
     },
     "execution_count": 8,
     "metadata": {},
     "output_type": "execute_result"
    }
   ],
   "source": [
    "from sigmaepsilon.math.approx import moving_least_squares\n",
    "from sigmaepsilon.math.approx import ConstantWeightFunction\n",
    "\n",
    "w = ConstantWeightFunction(core=[0.0, 0.0, 0.0], supportdomain=[0.5, 0.5, 0.5])\n",
    "approx = moving_least_squares(points, values, deg=1, order=2, w=w)\n",
    "\n",
    "f, fdx, fdy, fdz, fdxx, fdyy, fdzz, fdxy, fdxz, fdyz = approx([0, 0, 0])\n",
    "approx([0, 0, 0])"
   ]
  },
  {
   "cell_type": "code",
   "execution_count": 9,
   "metadata": {},
   "outputs": [
    {
     "data": {
      "text/plain": [
       "(array([0.39300874]), 0.9407842933480457)"
      ]
     },
     "execution_count": 9,
     "metadata": {},
     "output_type": "execute_result"
    }
   ],
   "source": [
    "i = 10\n",
    "approx(points[i])[0], values[i]"
   ]
  },
  {
   "cell_type": "code",
   "execution_count": 10,
   "metadata": {},
   "outputs": [],
   "source": [
    "from sigmaepsilon.math.approx import MLSApproximator\n",
    "\n",
    "approximator = MLSApproximator()\n",
    "values = np.ones((len(values), 3))\n",
    "approximator.fit(points, values, points)"
   ]
  },
  {
   "cell_type": "code",
   "execution_count": 11,
   "metadata": {},
   "outputs": [
    {
     "data": {
      "text/plain": [
       "array([[  0,  10, 100,   1],\n",
       "       [  1, 101,  11,   2],\n",
       "       [  2,   1, 102,   3],\n",
       "       ...,\n",
       "       [997, 996, 987, 998],\n",
       "       [998, 997, 898, 988],\n",
       "       [999, 899, 989, 998]], dtype=int64)"
      ]
     },
     "execution_count": 11,
     "metadata": {},
     "output_type": "execute_result"
    }
   ],
   "source": [
    "approximator.neighbours"
   ]
  },
  {
   "cell_type": "code",
   "execution_count": 12,
   "metadata": {},
   "outputs": [
    {
     "data": {
      "text/plain": [
       "array([[1., 1., 1.],\n",
       "       [1., 1., 1.],\n",
       "       [1., 1., 1.],\n",
       "       ...,\n",
       "       [1., 1., 1.],\n",
       "       [1., 1., 1.],\n",
       "       [1., 1., 1.]])"
      ]
     },
     "execution_count": 12,
     "metadata": {},
     "output_type": "execute_result"
    }
   ],
   "source": [
    "approximator.approximate(points)"
   ]
  }
 ],
 "metadata": {
  "kernelspec": {
   "display_name": "sigmaepsilon-math-EXHOCPha-py3.10",
   "language": "python",
   "name": "python3"
  },
  "language_info": {
   "codemirror_mode": {
    "name": "ipython",
    "version": 3
   },
   "file_extension": ".py",
   "mimetype": "text/x-python",
   "name": "python",
   "nbconvert_exporter": "python",
   "pygments_lexer": "ipython3",
   "version": "3.10.11"
  }
 },
 "nbformat": 4,
 "nbformat_minor": 2
}
