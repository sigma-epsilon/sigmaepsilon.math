{
 "cells": [
  {
   "cell_type": "code",
   "execution_count": 38,
   "metadata": {},
   "outputs": [],
   "source": [
    "import numpy as np\n",
    "\n",
    "nx, ny, nz = (10, 10, 10)\n",
    "x = np.linspace(0, 1, nx)\n",
    "y = np.linspace(0, 1, ny)\n",
    "z = np.linspace(0, 1, nz)\n",
    "xv, yv, zv = np.meshgrid(x, y, z)\n",
    "points = np.stack([xv.flatten(), yv.flatten(), zv.flatten()], axis=-1)\n",
    "values = np.random.rand(nx*ny*nz)\n",
    "del xv, yv, zv, x, y, z"
   ]
  },
  {
   "cell_type": "code",
   "execution_count": 39,
   "metadata": {},
   "outputs": [
    {
     "data": {
      "text/plain": [
       "(array([0.44807146]),\n",
       " array([-0.02806849]),\n",
       " array([0.1835602]),\n",
       " array([0.03715389]),\n",
       " array([0.]),\n",
       " array([0.]),\n",
       " array([0.]),\n",
       " array([0.]),\n",
       " array([0.]),\n",
       " array([0.]))"
      ]
     },
     "execution_count": 39,
     "metadata": {},
     "output_type": "execute_result"
    }
   ],
   "source": [
    "from sigmaepsilon.math.approx import moving_least_squares\n",
    "from sigmaepsilon.math.approx import ConstantWeightFunction\n",
    "\n",
    "w = ConstantWeightFunction(core=[0.0, 0.0, 0.0], supportdomain=[0.5, 0.5, 0.5])\n",
    "approx = moving_least_squares(points, values, deg=1, order=2, w=w)\n",
    "\n",
    "f, fdx, fdy, fdz, fdxx, fdyy, fdzz, fdxy, fdxz, fdyz = approx([0, 0, 0])\n",
    "approx([0, 0, 0])"
   ]
  },
  {
   "cell_type": "code",
   "execution_count": 40,
   "metadata": {},
   "outputs": [
    {
     "data": {
      "text/plain": [
       "(array([0.45975074]), 0.7322021202391502)"
      ]
     },
     "execution_count": 40,
     "metadata": {},
     "output_type": "execute_result"
    }
   ],
   "source": [
    "i = 10\n",
    "approx(points[i])[0], values[i]"
   ]
  }
 ],
 "metadata": {
  "kernelspec": {
   "display_name": "sigmaepsilon-math-EXHOCPha-py3.10",
   "language": "python",
   "name": "python3"
  },
  "language_info": {
   "codemirror_mode": {
    "name": "ipython",
    "version": 3
   },
   "file_extension": ".py",
   "mimetype": "text/x-python",
   "name": "python",
   "nbconvert_exporter": "python",
   "pygments_lexer": "ipython3",
   "version": "3.10.11"
  }
 },
 "nbformat": 4,
 "nbformat_minor": 2
}
