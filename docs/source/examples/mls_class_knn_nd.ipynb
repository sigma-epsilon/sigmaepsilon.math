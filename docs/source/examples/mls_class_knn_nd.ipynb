{
 "cells": [
  {
   "cell_type": "markdown",
   "metadata": {},
   "source": [
    "# Binary Classification Using a KNN-based Moving-Least-Squares Method"
   ]
  },
  {
   "cell_type": "code",
   "execution_count": 17,
   "metadata": {},
   "outputs": [],
   "source": [
    "import numpy as np\n",
    "\n",
    "n = 10000\n",
    "\n",
    "x = np.random.randint(0, 2, (n, 9))\n",
    "y = np.random.rand(n)\n",
    "y[np.where(y > 0.5)] = 1\n",
    "y[np.where(y <= 0.5)] = 0\n",
    "\n",
    "split_ratio = 0.8"
   ]
  },
  {
   "cell_type": "code",
   "execution_count": 18,
   "metadata": {},
   "outputs": [
    {
     "name": "stdout",
     "output_type": "stream",
     "text": [
      "Absolute validation mean error:  0.5095\n",
      "Number of failed predictions:  1019.0\n",
      "Percentage of failed predictions:  50.95\n",
      "Validation MSE:  0.1019\n"
     ]
    }
   ],
   "source": [
    "from sigmaepsilon.math.approx import MLSApproximator\n",
    "\n",
    "train_limit = int(len(x) * split_ratio)\n",
    "x_train, x_test = x[:train_limit], x[train_limit:]\n",
    "y_train, y_test = y[:train_limit], y[train_limit:]\n",
    "\n",
    "approximator = MLSApproximator(x_train, y_train, k=4)\n",
    "y_approx = approximator.approximate(x_test)\n",
    "y_approx[np.where(y_approx > 0.5)] = 1\n",
    "y_approx[np.where(y_approx <= 0.5)] = 0\n",
    "\n",
    "mean = np.abs(y_test - y_approx).mean()\n",
    "n_fail = np.sum(np.abs(y_test - y_approx))\n",
    "mse = np.sum((y_test - y_approx)**2) / n\n",
    "print(\"Absolute validation mean error: \", mean)\n",
    "print(\"Number of failed predictions: \", n_fail)\n",
    "print(\"Percentage of failed predictions: \", 100 * n_fail / len(y_test))\n",
    "print(\"Validation MSE: \", mse)"
   ]
  }
 ],
 "metadata": {
  "kernelspec": {
   "display_name": "sigmaepsilon-math-EXHOCPha-py3.10",
   "language": "python",
   "name": "python3"
  },
  "language_info": {
   "codemirror_mode": {
    "name": "ipython",
    "version": 3
   },
   "file_extension": ".py",
   "mimetype": "text/x-python",
   "name": "python",
   "nbconvert_exporter": "python",
   "pygments_lexer": "ipython3",
   "version": "3.10.11"
  }
 },
 "nbformat": 4,
 "nbformat_minor": 2
}
